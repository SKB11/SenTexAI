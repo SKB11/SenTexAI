{
  "nbformat": 4,
  "nbformat_minor": 0,
  "metadata": {
    "colab": {
      "provenance": [],
      "toc_visible": true,
      "authorship_tag": "ABX9TyOI1NLFZnY70iw9hcI795eu",
      "include_colab_link": true
    },
    "kernelspec": {
      "name": "python3",
      "display_name": "Python 3"
    },
    "language_info": {
      "name": "python"
    }
  },
  "cells": [
    {
      "cell_type": "markdown",
      "metadata": {
        "id": "view-in-github",
        "colab_type": "text"
      },
      "source": [
        "<a href=\"https://colab.research.google.com/github/SKB11/SenTexAI/blob/main/PP1_lang_Trans_Model.ipynb\" target=\"_parent\"><img src=\"https://colab.research.google.com/assets/colab-badge.svg\" alt=\"Open In Colab\"/></a>"
      ]
    },
    {
      "cell_type": "code",
      "execution_count": null,
      "metadata": {
        "colab": {
          "base_uri": "https://localhost:8080/"
        },
        "id": "XMQnitI0nocu",
        "outputId": "71f4969c-919f-4f67-9c0a-742ac6a95ed1"
      },
      "outputs": [
        {
          "output_type": "stream",
          "name": "stdout",
          "text": [
            "Requirement already satisfied: langdetect in /usr/local/lib/python3.10/dist-packages (1.0.9)\n",
            "Requirement already satisfied: six in /usr/local/lib/python3.10/dist-packages (from langdetect) (1.16.0)\n"
          ]
        }
      ],
      "source": [
        "!pip install langdetect\n"
      ]
    },
    {
      "cell_type": "code",
      "source": [
        "from langdetect import detect\n",
        "\n",
        "sentence = \"Tanzania ni nchi inayoongoza kwa utalii barani afrika\"\n",
        "\n",
        "print(detect(sentence))"
      ],
      "metadata": {
        "colab": {
          "base_uri": "https://localhost:8080/"
        },
        "id": "SArwRKBknvJ4",
        "outputId": "0ac2920f-96bb-489a-840c-2ef62cc2c0b5"
      },
      "execution_count": null,
      "outputs": [
        {
          "output_type": "stream",
          "name": "stdout",
          "text": [
            "sw\n"
          ]
        }
      ]
    },
    {
      "cell_type": "code",
      "source": [
        "from langdetect import DetectorFactory\n",
        "DetectorFactory.seed = 0"
      ],
      "metadata": {
        "id": "1ixjTa_8n_d8"
      },
      "execution_count": null,
      "outputs": []
    },
    {
      "cell_type": "code",
      "source": [
        "from langdetect import detect_langs\n",
        "\n",
        "sentence = \"Tanzania ni nchi inayoongoza kwa utalii barani afrika\"\n",
        "\n",
        "print(detect_langs(sentence))"
      ],
      "metadata": {
        "colab": {
          "base_uri": "https://localhost:8080/"
        },
        "id": "j7UgbQ9yn7Ko",
        "outputId": "3aa195a3-fb81-4ac1-e47a-e0e412f6ee06"
      },
      "execution_count": null,
      "outputs": [
        {
          "output_type": "stream",
          "name": "stdout",
          "text": [
            "[sw:0.9999971210408876]\n"
          ]
        }
      ]
    },
    {
      "cell_type": "code",
      "source": [
        "!pip install mtranslate\n"
      ],
      "metadata": {
        "colab": {
          "base_uri": "https://localhost:8080/"
        },
        "id": "yKLs901qoYxL",
        "outputId": "75abb1fb-f78c-46f6-9190-6dfd5b5e8855"
      },
      "execution_count": null,
      "outputs": [
        {
          "output_type": "stream",
          "name": "stdout",
          "text": [
            "Requirement already satisfied: mtranslate in /usr/local/lib/python3.10/dist-packages (1.8)\n"
          ]
        }
      ]
    },
    {
      "cell_type": "code",
      "source": [
        "from mtranslate import translate\n",
        "\n",
        "sentence = \"Tanzania ni nchi inayoongoza kwa utalii barani afrika\"\n",
        "translate_text = translate(sentence, \"en\")\n",
        "\n",
        "print(translate_text)\n"
      ],
      "metadata": {
        "colab": {
          "base_uri": "https://localhost:8080/"
        },
        "id": "ZtRgJmrgpv6X",
        "outputId": "0d6ead38-738a-49b7-da1a-1ed0251e389f"
      },
      "execution_count": null,
      "outputs": [
        {
          "output_type": "stream",
          "name": "stdout",
          "text": [
            "Tanzania is the leading country for tourism in Africa\n"
          ]
        }
      ]
    },
    {
      "cell_type": "code",
      "source": [
        "!pip install googletrans==4.0.0-rc1\n"
      ],
      "metadata": {
        "colab": {
          "base_uri": "https://localhost:8080/"
        },
        "id": "BGtJLT3H8PQD",
        "outputId": "c4935d95-ff60-413e-e16b-8b91db655c71"
      },
      "execution_count": null,
      "outputs": [
        {
          "output_type": "stream",
          "name": "stdout",
          "text": [
            "Requirement already satisfied: googletrans==4.0.0-rc1 in /usr/local/lib/python3.10/dist-packages (4.0.0rc1)\n",
            "Requirement already satisfied: httpx==0.13.3 in /usr/local/lib/python3.10/dist-packages (from googletrans==4.0.0-rc1) (0.13.3)\n",
            "Requirement already satisfied: certifi in /usr/local/lib/python3.10/dist-packages (from httpx==0.13.3->googletrans==4.0.0-rc1) (2023.5.7)\n",
            "Requirement already satisfied: hstspreload in /usr/local/lib/python3.10/dist-packages (from httpx==0.13.3->googletrans==4.0.0-rc1) (2023.1.1)\n",
            "Requirement already satisfied: sniffio in /usr/local/lib/python3.10/dist-packages (from httpx==0.13.3->googletrans==4.0.0-rc1) (1.3.0)\n",
            "Requirement already satisfied: chardet==3.* in /usr/local/lib/python3.10/dist-packages (from httpx==0.13.3->googletrans==4.0.0-rc1) (3.0.4)\n",
            "Requirement already satisfied: idna==2.* in /usr/local/lib/python3.10/dist-packages (from httpx==0.13.3->googletrans==4.0.0-rc1) (2.10)\n",
            "Requirement already satisfied: rfc3986<2,>=1.3 in /usr/local/lib/python3.10/dist-packages (from httpx==0.13.3->googletrans==4.0.0-rc1) (1.5.0)\n",
            "Requirement already satisfied: httpcore==0.9.* in /usr/local/lib/python3.10/dist-packages (from httpx==0.13.3->googletrans==4.0.0-rc1) (0.9.1)\n",
            "Requirement already satisfied: h11<0.10,>=0.8 in /usr/local/lib/python3.10/dist-packages (from httpcore==0.9.*->httpx==0.13.3->googletrans==4.0.0-rc1) (0.9.0)\n",
            "Requirement already satisfied: h2==3.* in /usr/local/lib/python3.10/dist-packages (from httpcore==0.9.*->httpx==0.13.3->googletrans==4.0.0-rc1) (3.2.0)\n",
            "Requirement already satisfied: hyperframe<6,>=5.2.0 in /usr/local/lib/python3.10/dist-packages (from h2==3.*->httpcore==0.9.*->httpx==0.13.3->googletrans==4.0.0-rc1) (5.2.0)\n",
            "Requirement already satisfied: hpack<4,>=3.0 in /usr/local/lib/python3.10/dist-packages (from h2==3.*->httpcore==0.9.*->httpx==0.13.3->googletrans==4.0.0-rc1) (3.0.0)\n"
          ]
        }
      ]
    },
    {
      "cell_type": "code",
      "source": [
        "!pip install mtranslate\n",
        "\n",
        "from langdetect import detect\n",
        "from mtranslate import translate\n",
        "\n",
        "# Simple function to detect and translate text\n",
        "def detect_and_translate():\n",
        "    # Prompt the user for input\n",
        "    text = input(\"Enter the text to translate: \")\n",
        "    target_lang = input(\"Enter the target language: \")\n",
        "\n",
        "    result_lang = detect(text)\n",
        "\n",
        "    if result_lang == target_lang:\n",
        "        return text\n",
        "    else:\n",
        "        translate_text = translate(text, target_lang)\n",
        "        return translate_text\n",
        "\n",
        "translated_text = detect_and_translate()\n",
        "print(\"Translated text:\", translated_text)\n"
      ],
      "metadata": {
        "id": "CPiyVrqerFSo",
        "colab": {
          "base_uri": "https://localhost:8080/"
        },
        "outputId": "547bc1a0-1bfb-4729-c391-6cd1f2c334c2"
      },
      "execution_count": null,
      "outputs": [
        {
          "output_type": "stream",
          "name": "stdout",
          "text": [
            "Requirement already satisfied: mtranslate in /usr/local/lib/python3.10/dist-packages (1.8)\n",
            "Enter the text to translate: ಬೇವಿನ ಗಿಡವು ಔಷಧೀಯ ಗುಣಗಳನ್ನು ಹೊಂದಿದೆ\n",
            "Enter the target language: en\n",
            "Translated text: Neem plant has medicinal properties\n"
          ]
        }
      ]
    },
    {
      "cell_type": "code",
      "source": [],
      "metadata": {
        "id": "sbQYMKmPBc-E"
      },
      "execution_count": null,
      "outputs": []
    }
  ]
}