{
  "cells": [
    {
      "cell_type": "markdown",
      "metadata": {
        "colab_type": "text",
        "id": "view-in-github"
      },
      "source": [
        "<a href=\"https://colab.research.google.com/github/SKB11/SenTexAI/blob/main/PyAudo_Text.ipynb\" target=\"_parent\"><img src=\"https://colab.research.google.com/assets/colab-badge.svg\" alt=\"Open In Colab\"/></a>"
      ]
    },
    {
      "cell_type": "code",
      "execution_count": null,
      "metadata": {
        "colab": {
          "base_uri": "https://localhost:8080/"
        },
        "id": "qyPSVe4D8xiX",
        "outputId": "20d22b8d-5f04-439e-a914-c51c94520385"
      },
      "outputs": [],
      "source": [
        "!pip install SpeechRecognition"
      ]
    },
    {
      "cell_type": "code",
      "execution_count": null,
      "metadata": {
        "colab": {
          "base_uri": "https://localhost:8080/"
        },
        "id": "hX9VvrzS8_H2",
        "outputId": "62da8130-5b5e-489e-fa14-96795e86ba89"
      },
      "outputs": [],
      "source": [
        "!apt update\n",
        "!apt install -y portaudio19-dev\n",
        "!pip install pyaudio\n"
      ]
    },
    {
      "cell_type": "code",
      "execution_count": null,
      "metadata": {
        "id": "atIa7-qD9WxA"
      },
      "outputs": [],
      "source": [
        "import speech_recognition as sr"
      ]
    },
    {
      "cell_type": "code",
      "execution_count": null,
      "metadata": {
        "id": "-9JjqrUE99L6"
      },
      "outputs": [],
      "source": [
        "r = sr.Recognizer()"
      ]
    },
    {
      "cell_type": "code",
      "execution_count": null,
      "metadata": {
        "colab": {
          "base_uri": "https://localhost:8080/"
        },
        "id": "zwFrRIu6-DLk",
        "outputId": "4c6bd56f-0cad-476e-cb51-3114d4048f83"
      },
      "outputs": [],
      "source": [
        "with sr.AudioFile('Recording (3).wav') as source:\n",
        "  audio=r.listen(source)\n",
        "  try:\n",
        "    text=r.recognize_google(audio)\n",
        "    print(\"working on...\")\n",
        "    print(text)\n",
        "  except:\n",
        "    print(\"sorry run again\")"
      ]
    }
  ],
  "metadata": {
    "colab": {
      "authorship_tag": "ABX9TyMiveVorPIaPTL9Tabrm9Et",
      "include_colab_link": true,
      "provenance": []
    },
    "kernelspec": {
      "display_name": "Python 3",
      "name": "python3"
    },
    "language_info": {
      "name": "python"
    }
  },
  "nbformat": 4,
  "nbformat_minor": 0
}
